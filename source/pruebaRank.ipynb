{
 "cells": [
  {
   "cell_type": "code",
   "execution_count": 1,
   "id": "registered-aquarium",
   "metadata": {},
   "outputs": [],
   "source": [
    "import pandas as pd\n",
    "from Bio import SeqIO\n",
    "import gzip\n",
    "import matplotlib.pyplot as plt\n",
    "import numpy as np\n",
    "import math"
   ]
  },
  {
   "cell_type": "markdown",
   "id": "through-psychology",
   "metadata": {},
   "source": [
    "# Chr01 example"
   ]
  },
  {
   "cell_type": "code",
   "execution_count": 2,
   "id": "suffering-hospital",
   "metadata": {},
   "outputs": [
    {
     "name": "stderr",
     "output_type": "stream",
     "text": [
      "C:\\Users\\milil\\anaconda3\\lib\\site-packages\\ipykernel_launcher.py:7: SettingWithCopyWarning: \n",
      "A value is trying to be set on a copy of a slice from a DataFrame.\n",
      "Try using .loc[row_indexer,col_indexer] = value instead\n",
      "\n",
      "See the caveats in the documentation: https://pandas.pydata.org/pandas-docs/stable/user_guide/indexing.html#returning-a-view-versus-a-copy\n",
      "  import sys\n"
     ]
    },
    {
     "data": {
      "text/html": [
       "<div>\n",
       "<style scoped>\n",
       "    .dataframe tbody tr th:only-of-type {\n",
       "        vertical-align: middle;\n",
       "    }\n",
       "\n",
       "    .dataframe tbody tr th {\n",
       "        vertical-align: top;\n",
       "    }\n",
       "\n",
       "    .dataframe thead th {\n",
       "        text-align: right;\n",
       "    }\n",
       "</style>\n",
       "<table border=\"1\" class=\"dataframe\">\n",
       "  <thead>\n",
       "    <tr style=\"text-align: right;\">\n",
       "      <th></th>\n",
       "      <th>Chr</th>\n",
       "      <th>Start</th>\n",
       "      <th>End</th>\n",
       "    </tr>\n",
       "    <tr>\n",
       "      <th>Gene</th>\n",
       "      <th></th>\n",
       "      <th></th>\n",
       "      <th></th>\n",
       "    </tr>\n",
       "  </thead>\n",
       "  <tbody>\n",
       "    <tr>\n",
       "      <th>Niben261Chr01g0001004</th>\n",
       "      <td>Chr01</td>\n",
       "      <td>138648</td>\n",
       "      <td>145484</td>\n",
       "    </tr>\n",
       "    <tr>\n",
       "      <th>Niben261Chr01g0003002</th>\n",
       "      <td>Chr01</td>\n",
       "      <td>305466</td>\n",
       "      <td>309127</td>\n",
       "    </tr>\n",
       "    <tr>\n",
       "      <th>Niben261Chr01g0004013</th>\n",
       "      <td>Chr01</td>\n",
       "      <td>433168</td>\n",
       "      <td>434139</td>\n",
       "    </tr>\n",
       "    <tr>\n",
       "      <th>Niben261Chr01g0005004</th>\n",
       "      <td>Chr01</td>\n",
       "      <td>509493</td>\n",
       "      <td>512123</td>\n",
       "    </tr>\n",
       "    <tr>\n",
       "      <th>Niben261Chr01g0005003</th>\n",
       "      <td>Chr01</td>\n",
       "      <td>512164</td>\n",
       "      <td>512450</td>\n",
       "    </tr>\n",
       "    <tr>\n",
       "      <th>...</th>\n",
       "      <td>...</td>\n",
       "      <td>...</td>\n",
       "      <td>...</td>\n",
       "    </tr>\n",
       "    <tr>\n",
       "      <th>Niben261Chr19g1484002</th>\n",
       "      <td>Chr19</td>\n",
       "      <td>148454367</td>\n",
       "      <td>148463060</td>\n",
       "    </tr>\n",
       "    <tr>\n",
       "      <th>Niben261Chr19g1485005</th>\n",
       "      <td>Chr19</td>\n",
       "      <td>148480135</td>\n",
       "      <td>148499120</td>\n",
       "    </tr>\n",
       "    <tr>\n",
       "      <th>Niben261Chr19g1485014</th>\n",
       "      <td>Chr19</td>\n",
       "      <td>148530961</td>\n",
       "      <td>148538381</td>\n",
       "    </tr>\n",
       "    <tr>\n",
       "      <th>Niben261Chr19g1486029</th>\n",
       "      <td>Chr19</td>\n",
       "      <td>148623104</td>\n",
       "      <td>148631519</td>\n",
       "    </tr>\n",
       "    <tr>\n",
       "      <th>Niben261Chr19g1486004</th>\n",
       "      <td>Chr19</td>\n",
       "      <td>148632519</td>\n",
       "      <td>148634027</td>\n",
       "    </tr>\n",
       "  </tbody>\n",
       "</table>\n",
       "<p>22872 rows × 3 columns</p>\n",
       "</div>"
      ],
      "text/plain": [
       "                         Chr      Start        End\n",
       "Gene                                              \n",
       "Niben261Chr01g0001004  Chr01     138648     145484\n",
       "Niben261Chr01g0003002  Chr01     305466     309127\n",
       "Niben261Chr01g0004013  Chr01     433168     434139\n",
       "Niben261Chr01g0005004  Chr01     509493     512123\n",
       "Niben261Chr01g0005003  Chr01     512164     512450\n",
       "...                      ...        ...        ...\n",
       "Niben261Chr19g1484002  Chr19  148454367  148463060\n",
       "Niben261Chr19g1485005  Chr19  148480135  148499120\n",
       "Niben261Chr19g1485014  Chr19  148530961  148538381\n",
       "Niben261Chr19g1486029  Chr19  148623104  148631519\n",
       "Niben261Chr19g1486004  Chr19  148632519  148634027\n",
       "\n",
       "[22872 rows x 3 columns]"
      ]
     },
     "execution_count": 2,
     "metadata": {},
     "output_type": "execute_result"
    }
   ],
   "source": [
    "data = pd.read_csv(\"./data_quintile_round_inNiben261.txt\", sep = \"\\t\", header = 0)\n",
    "Niben261 = pd.read_csv(\"./Niben261_genes.txt\", sep = \"\\t\", header = 0, index_col = 0)\n",
    "Niben261chr = Niben261[Niben261.index.str.contains(\"Chr\")]\n",
    "quintile_genes = data.index.tolist() # genes clasificados, con correspondencia en Niben101.\n",
    "add_genes = list(set(Niben261chr.index.tolist()).difference(quintile_genes))\n",
    "Niben261add = Niben261chr[Niben261chr.index.isin(add_genes)]\n",
    "Niben261add[\"Chr\"] = Niben261add.Chr.str.replace(\"Niben261Chr\", \"Chr\")\n",
    "Niben261add"
   ]
  },
  {
   "cell_type": "code",
   "execution_count": 3,
   "id": "engaging-skiing",
   "metadata": {},
   "outputs": [
    {
     "data": {
      "text/html": [
       "<div>\n",
       "<style scoped>\n",
       "    .dataframe tbody tr th:only-of-type {\n",
       "        vertical-align: middle;\n",
       "    }\n",
       "\n",
       "    .dataframe tbody tr th {\n",
       "        vertical-align: top;\n",
       "    }\n",
       "\n",
       "    .dataframe thead th {\n",
       "        text-align: right;\n",
       "    }\n",
       "</style>\n",
       "<table border=\"1\" class=\"dataframe\">\n",
       "  <thead>\n",
       "    <tr style=\"text-align: right;\">\n",
       "      <th></th>\n",
       "      <th>Chr</th>\n",
       "      <th>Start</th>\n",
       "      <th>End</th>\n",
       "      <th>quintile</th>\n",
       "    </tr>\n",
       "  </thead>\n",
       "  <tbody>\n",
       "    <tr>\n",
       "      <th>Niben261Chr01g0002008</th>\n",
       "      <td>Chr01</td>\n",
       "      <td>266317</td>\n",
       "      <td>268851</td>\n",
       "      <td>1.0</td>\n",
       "    </tr>\n",
       "    <tr>\n",
       "      <th>Niben261Chr01g0004001</th>\n",
       "      <td>Chr01</td>\n",
       "      <td>458230</td>\n",
       "      <td>462273</td>\n",
       "      <td>3.0</td>\n",
       "    </tr>\n",
       "    <tr>\n",
       "      <th>Niben261Chr01g0004003</th>\n",
       "      <td>Chr01</td>\n",
       "      <td>467574</td>\n",
       "      <td>480423</td>\n",
       "      <td>2.0</td>\n",
       "    </tr>\n",
       "    <tr>\n",
       "      <th>Niben261Chr01g0004011</th>\n",
       "      <td>Chr01</td>\n",
       "      <td>465674</td>\n",
       "      <td>466936</td>\n",
       "      <td>1.0</td>\n",
       "    </tr>\n",
       "    <tr>\n",
       "      <th>Niben261Chr01g0004012</th>\n",
       "      <td>Chr01</td>\n",
       "      <td>432045</td>\n",
       "      <td>433043</td>\n",
       "      <td>1.0</td>\n",
       "    </tr>\n",
       "    <tr>\n",
       "      <th>...</th>\n",
       "      <td>...</td>\n",
       "      <td>...</td>\n",
       "      <td>...</td>\n",
       "      <td>...</td>\n",
       "    </tr>\n",
       "    <tr>\n",
       "      <th>Niben261Chr19g1484002</th>\n",
       "      <td>Chr19</td>\n",
       "      <td>148454367</td>\n",
       "      <td>148463060</td>\n",
       "      <td>NaN</td>\n",
       "    </tr>\n",
       "    <tr>\n",
       "      <th>Niben261Chr19g1485005</th>\n",
       "      <td>Chr19</td>\n",
       "      <td>148480135</td>\n",
       "      <td>148499120</td>\n",
       "      <td>NaN</td>\n",
       "    </tr>\n",
       "    <tr>\n",
       "      <th>Niben261Chr19g1485014</th>\n",
       "      <td>Chr19</td>\n",
       "      <td>148530961</td>\n",
       "      <td>148538381</td>\n",
       "      <td>NaN</td>\n",
       "    </tr>\n",
       "    <tr>\n",
       "      <th>Niben261Chr19g1486029</th>\n",
       "      <td>Chr19</td>\n",
       "      <td>148623104</td>\n",
       "      <td>148631519</td>\n",
       "      <td>NaN</td>\n",
       "    </tr>\n",
       "    <tr>\n",
       "      <th>Niben261Chr19g1486004</th>\n",
       "      <td>Chr19</td>\n",
       "      <td>148632519</td>\n",
       "      <td>148634027</td>\n",
       "      <td>NaN</td>\n",
       "    </tr>\n",
       "  </tbody>\n",
       "</table>\n",
       "<p>60260 rows × 4 columns</p>\n",
       "</div>"
      ],
      "text/plain": [
       "                         Chr      Start        End  quintile\n",
       "Niben261Chr01g0002008  Chr01     266317     268851       1.0\n",
       "Niben261Chr01g0004001  Chr01     458230     462273       3.0\n",
       "Niben261Chr01g0004003  Chr01     467574     480423       2.0\n",
       "Niben261Chr01g0004011  Chr01     465674     466936       1.0\n",
       "Niben261Chr01g0004012  Chr01     432045     433043       1.0\n",
       "...                      ...        ...        ...       ...\n",
       "Niben261Chr19g1484002  Chr19  148454367  148463060       NaN\n",
       "Niben261Chr19g1485005  Chr19  148480135  148499120       NaN\n",
       "Niben261Chr19g1485014  Chr19  148530961  148538381       NaN\n",
       "Niben261Chr19g1486029  Chr19  148623104  148631519       NaN\n",
       "Niben261Chr19g1486004  Chr19  148632519  148634027       NaN\n",
       "\n",
       "[60260 rows x 4 columns]"
      ]
     },
     "execution_count": 3,
     "metadata": {},
     "output_type": "execute_result"
    }
   ],
   "source": [
    "data_complete = data.append(Niben261add)\n",
    "data_complete"
   ]
  },
  {
   "cell_type": "code",
   "execution_count": 4,
   "id": "defensive-beach",
   "metadata": {},
   "outputs": [],
   "source": [
    "# No ejecutar lo de arriba, tarda mucho, se ejecutó una vez y este es el resultado para los cromosomas.\n",
    "chr_len = {'Niben261Chr01': 186295347,\n",
    " 'Niben261Chr02': 151625522,\n",
    " 'Niben261Chr03': 194605305,\n",
    " 'Niben261Chr04': 189815799,\n",
    " 'Niben261Chr05': 138451958,\n",
    " 'Niben261Chr06': 148966868,\n",
    " 'Niben261Chr07': 152648067,\n",
    " 'Niben261Chr08': 137820123,\n",
    " 'Niben261Chr09': 137640743,\n",
    " 'Niben261Chr10': 138251820,\n",
    " 'Niben261Chr11': 143669543,\n",
    " 'Niben261Chr12': 158218613,\n",
    " 'Niben261Chr13': 153652170,\n",
    " 'Niben261Chr14': 153778118,\n",
    " 'Niben261Chr15': 153112746,\n",
    " 'Niben261Chr16': 148817306,\n",
    " 'Niben261Chr17': 155116228,\n",
    " 'Niben261Chr18': 148425545,\n",
    " 'Niben261Chr19': 148948562}"
   ]
  },
  {
   "cell_type": "code",
   "execution_count": 5,
   "id": "younger-vermont",
   "metadata": {},
   "outputs": [
    {
     "data": {
      "text/html": [
       "<div>\n",
       "<style scoped>\n",
       "    .dataframe tbody tr th:only-of-type {\n",
       "        vertical-align: middle;\n",
       "    }\n",
       "\n",
       "    .dataframe tbody tr th {\n",
       "        vertical-align: top;\n",
       "    }\n",
       "\n",
       "    .dataframe thead th {\n",
       "        text-align: right;\n",
       "    }\n",
       "</style>\n",
       "<table border=\"1\" class=\"dataframe\">\n",
       "  <thead>\n",
       "    <tr style=\"text-align: right;\">\n",
       "      <th></th>\n",
       "      <th>Chr</th>\n",
       "      <th>Start</th>\n",
       "      <th>End</th>\n",
       "      <th>quintile</th>\n",
       "    </tr>\n",
       "  </thead>\n",
       "  <tbody>\n",
       "    <tr>\n",
       "      <th>Niben261Chr01g0001004</th>\n",
       "      <td>Chr01</td>\n",
       "      <td>138648</td>\n",
       "      <td>145484</td>\n",
       "      <td>NaN</td>\n",
       "    </tr>\n",
       "    <tr>\n",
       "      <th>Niben261Chr01g0002008</th>\n",
       "      <td>Chr01</td>\n",
       "      <td>266317</td>\n",
       "      <td>268851</td>\n",
       "      <td>1.0</td>\n",
       "    </tr>\n",
       "    <tr>\n",
       "      <th>Niben261Chr01g0003002</th>\n",
       "      <td>Chr01</td>\n",
       "      <td>305466</td>\n",
       "      <td>309127</td>\n",
       "      <td>NaN</td>\n",
       "    </tr>\n",
       "    <tr>\n",
       "      <th>Niben261Chr01g0004012</th>\n",
       "      <td>Chr01</td>\n",
       "      <td>432045</td>\n",
       "      <td>433043</td>\n",
       "      <td>1.0</td>\n",
       "    </tr>\n",
       "    <tr>\n",
       "      <th>Niben261Chr01g0004013</th>\n",
       "      <td>Chr01</td>\n",
       "      <td>433168</td>\n",
       "      <td>434139</td>\n",
       "      <td>NaN</td>\n",
       "    </tr>\n",
       "    <tr>\n",
       "      <th>...</th>\n",
       "      <td>...</td>\n",
       "      <td>...</td>\n",
       "      <td>...</td>\n",
       "      <td>...</td>\n",
       "    </tr>\n",
       "    <tr>\n",
       "      <th>Niben261Chr01g1858003</th>\n",
       "      <td>Chr01</td>\n",
       "      <td>185840458</td>\n",
       "      <td>185843056</td>\n",
       "      <td>2.0</td>\n",
       "    </tr>\n",
       "    <tr>\n",
       "      <th>Niben261Chr01g1860003</th>\n",
       "      <td>Chr01</td>\n",
       "      <td>186028072</td>\n",
       "      <td>186031716</td>\n",
       "      <td>3.0</td>\n",
       "    </tr>\n",
       "    <tr>\n",
       "      <th>Niben261Chr01g1861002</th>\n",
       "      <td>Chr01</td>\n",
       "      <td>186120513</td>\n",
       "      <td>186121051</td>\n",
       "      <td>NaN</td>\n",
       "    </tr>\n",
       "    <tr>\n",
       "      <th>Niben261Chr01g1861003</th>\n",
       "      <td>Chr01</td>\n",
       "      <td>186121221</td>\n",
       "      <td>186121439</td>\n",
       "      <td>NaN</td>\n",
       "    </tr>\n",
       "    <tr>\n",
       "      <th>Niben261Chr01g1861001</th>\n",
       "      <td>Chr01</td>\n",
       "      <td>186121476</td>\n",
       "      <td>186121838</td>\n",
       "      <td>NaN</td>\n",
       "    </tr>\n",
       "  </tbody>\n",
       "</table>\n",
       "<p>3347 rows × 4 columns</p>\n",
       "</div>"
      ],
      "text/plain": [
       "                         Chr      Start        End  quintile\n",
       "Niben261Chr01g0001004  Chr01     138648     145484       NaN\n",
       "Niben261Chr01g0002008  Chr01     266317     268851       1.0\n",
       "Niben261Chr01g0003002  Chr01     305466     309127       NaN\n",
       "Niben261Chr01g0004012  Chr01     432045     433043       1.0\n",
       "Niben261Chr01g0004013  Chr01     433168     434139       NaN\n",
       "...                      ...        ...        ...       ...\n",
       "Niben261Chr01g1858003  Chr01  185840458  185843056       2.0\n",
       "Niben261Chr01g1860003  Chr01  186028072  186031716       3.0\n",
       "Niben261Chr01g1861002  Chr01  186120513  186121051       NaN\n",
       "Niben261Chr01g1861003  Chr01  186121221  186121439       NaN\n",
       "Niben261Chr01g1861001  Chr01  186121476  186121838       NaN\n",
       "\n",
       "[3347 rows x 4 columns]"
      ]
     },
     "execution_count": 5,
     "metadata": {},
     "output_type": "execute_result"
    }
   ],
   "source": [
    "chr01 = data_complete[data_complete[\"Chr\"] == \"Chr01\"].sort_values('Start')\n",
    "chr01"
   ]
  },
  {
   "cell_type": "code",
   "execution_count": 6,
   "id": "mysterious-bracket",
   "metadata": {},
   "outputs": [],
   "source": [
    "def split(length, window):\n",
    "    intervals = {}\n",
    "    index = 1\n",
    "    interval = []\n",
    "    number_intervals = math.ceil(length/window)\n",
    "    for i in range(length):\n",
    "        interval.append(i + 1)\n",
    "        if index == number_intervals:\n",
    "            intervals[index] = [intervals[index - 1][1] + 1, length]\n",
    "            break\n",
    "        if len(interval) == window:\n",
    "            intervals[index] = [min(interval), max(interval)]\n",
    "            index += 1\n",
    "            interval = []\n",
    "    return(intervals)"
   ]
  },
  {
   "cell_type": "code",
   "execution_count": 48,
   "id": "elegant-doctrine",
   "metadata": {},
   "outputs": [],
   "source": [
    "# Intervalos de 100K del Chr01:\n",
    "window = 1000000 # 1000K.\n",
    "intervals_chr01 = split(chr_len[\"Niben261Chr01\"], window)"
   ]
  },
  {
   "cell_type": "markdown",
   "id": "funded-science",
   "metadata": {},
   "source": [
    "# Ranking de las ventanas por categoría de expresión:\n",
    "Ejemplo con la categoría 5."
   ]
  },
  {
   "cell_type": "code",
   "execution_count": 54,
   "id": "empty-receipt",
   "metadata": {},
   "outputs": [],
   "source": [
    "ranking = {}\n",
    "for interval, values in intervals_chr01.items():\n",
    "    chr01_values = chr01[(values[0] <= chr01[\"Start\"]) & (chr01[\"Start\"] < values[1])]\n",
    "    n_genes = len(chr01_values[chr01_values['quintile'].notna()])\n",
    "    if n_genes != 0:\n",
    "        list_ranking = []\n",
    "        for category in [5,4,3,2,1,0]:\n",
    "            if category == 5 or category == 4 or category == 3:\n",
    "                list_ranking.append(len(chr01_values[chr01_values[\"quintile\"] == category]))\n",
    "            else:\n",
    "                list_ranking.append(-len(chr01_values[chr01_values[\"quintile\"] == category])) \n",
    "        ranking[interval] = list_ranking"
   ]
  },
  {
   "cell_type": "code",
   "execution_count": 61,
   "id": "through-bangladesh",
   "metadata": {},
   "outputs": [
    {
     "data": {
      "text/plain": [
       "[20, 171, 2, 47, 148, 181, 4, 10, 12, 15]"
      ]
     },
     "execution_count": 61,
     "metadata": {},
     "output_type": "execute_result"
    }
   ],
   "source": [
    "names = list(ranking.keys())\n",
    "sorted(names, key=lambda name: ranking[name][1], reverse=True)[:10]"
   ]
  },
  {
   "cell_type": "code",
   "execution_count": 63,
   "id": "overall-frost",
   "metadata": {},
   "outputs": [
    {
     "data": {
      "text/plain": [
       "[0, 4, 6, -4, -3, 0]"
      ]
     },
     "execution_count": 63,
     "metadata": {},
     "output_type": "execute_result"
    }
   ],
   "source": [
    "ranking[171]"
   ]
  },
  {
   "cell_type": "code",
   "execution_count": 32,
   "id": "integrated-millennium",
   "metadata": {},
   "outputs": [
    {
     "ename": "IndexError",
     "evalue": "list index out of range",
     "output_type": "error",
     "traceback": [
      "\u001b[1;31m---------------------------------------------------------------------------\u001b[0m",
      "\u001b[1;31mIndexError\u001b[0m                                Traceback (most recent call last)",
      "\u001b[1;32m<ipython-input-32-3e9c182c1e63>\u001b[0m in \u001b[0;36m<module>\u001b[1;34m\u001b[0m\n\u001b[1;32m----> 1\u001b[1;33m \u001b[0msorted\u001b[0m\u001b[1;33m(\u001b[0m\u001b[0mnames\u001b[0m\u001b[1;33m,\u001b[0m \u001b[0mkey\u001b[0m\u001b[1;33m=\u001b[0m\u001b[1;32mlambda\u001b[0m \u001b[0mname\u001b[0m\u001b[1;33m:\u001b[0m \u001b[0mranking\u001b[0m\u001b[1;33m[\u001b[0m\u001b[0mname\u001b[0m\u001b[1;33m]\u001b[0m\u001b[1;33m[\u001b[0m\u001b[1;36m1\u001b[0m\u001b[1;33m]\u001b[0m\u001b[1;33m,\u001b[0m \u001b[0mreverse\u001b[0m\u001b[1;33m=\u001b[0m\u001b[1;32mTrue\u001b[0m\u001b[1;33m)\u001b[0m\u001b[1;33m[\u001b[0m\u001b[1;33m:\u001b[0m\u001b[1;36m10\u001b[0m\u001b[1;33m]\u001b[0m\u001b[1;33m\u001b[0m\u001b[1;33m\u001b[0m\u001b[0m\n\u001b[0m",
      "\u001b[1;32m<ipython-input-32-3e9c182c1e63>\u001b[0m in \u001b[0;36m<lambda>\u001b[1;34m(name)\u001b[0m\n\u001b[1;32m----> 1\u001b[1;33m \u001b[0msorted\u001b[0m\u001b[1;33m(\u001b[0m\u001b[0mnames\u001b[0m\u001b[1;33m,\u001b[0m \u001b[0mkey\u001b[0m\u001b[1;33m=\u001b[0m\u001b[1;32mlambda\u001b[0m \u001b[0mname\u001b[0m\u001b[1;33m:\u001b[0m \u001b[0mranking\u001b[0m\u001b[1;33m[\u001b[0m\u001b[0mname\u001b[0m\u001b[1;33m]\u001b[0m\u001b[1;33m[\u001b[0m\u001b[1;36m1\u001b[0m\u001b[1;33m]\u001b[0m\u001b[1;33m,\u001b[0m \u001b[0mreverse\u001b[0m\u001b[1;33m=\u001b[0m\u001b[1;32mTrue\u001b[0m\u001b[1;33m)\u001b[0m\u001b[1;33m[\u001b[0m\u001b[1;33m:\u001b[0m\u001b[1;36m10\u001b[0m\u001b[1;33m]\u001b[0m\u001b[1;33m\u001b[0m\u001b[1;33m\u001b[0m\u001b[0m\n\u001b[0m",
      "\u001b[1;31mIndexError\u001b[0m: list index out of range"
     ]
    }
   ],
   "source": [
    "sorted(names, key=lambda name: ranking[name][1], reverse=True)[:10]"
   ]
  },
  {
   "cell_type": "code",
   "execution_count": 26,
   "id": "alone-reward",
   "metadata": {},
   "outputs": [
    {
     "data": {
      "text/plain": [
       "2"
      ]
     },
     "execution_count": 26,
     "metadata": {},
     "output_type": "execute_result"
    }
   ],
   "source": [
    "ranking[1150][0][1]"
   ]
  },
  {
   "cell_type": "code",
   "execution_count": 44,
   "id": "blond-disability",
   "metadata": {},
   "outputs": [],
   "source": [
    "a = {1: [9,8,6,7],\n",
    "    2: [9,9,6,7],\n",
    "    3: [10,9,8,4]}"
   ]
  },
  {
   "cell_type": "code",
   "execution_count": 45,
   "id": "existing-weekend",
   "metadata": {},
   "outputs": [
    {
     "data": {
      "text/plain": [
       "[3, 1, 2]"
      ]
     },
     "execution_count": 45,
     "metadata": {},
     "output_type": "execute_result"
    }
   ],
   "source": [
    "names = list(a.keys())\n",
    "sorted(names, key=lambda name: a[name][0], reverse=True)[:10]"
   ]
  },
  {
   "cell_type": "code",
   "execution_count": 47,
   "id": "muslim-panama",
   "metadata": {},
   "outputs": [
    {
     "data": {
      "text/plain": [
       "[[3, 1, 2], [2, 3, 1], [3, 1, 2], [1, 2, 3]]"
      ]
     },
     "execution_count": 47,
     "metadata": {},
     "output_type": "execute_result"
    }
   ],
   "source": [
    "[sorted(names, key=lambda name: a[name][ii], reverse=True) for ii in range(4)]"
   ]
  },
  {
   "cell_type": "code",
   "execution_count": null,
   "id": "expensive-shape",
   "metadata": {},
   "outputs": [],
   "source": []
  }
 ],
 "metadata": {
  "kernelspec": {
   "display_name": "Python 3",
   "language": "python",
   "name": "python3"
  },
  "language_info": {
   "codemirror_mode": {
    "name": "ipython",
    "version": 3
   },
   "file_extension": ".py",
   "mimetype": "text/x-python",
   "name": "python",
   "nbconvert_exporter": "python",
   "pygments_lexer": "ipython3",
   "version": "3.7.6"
  }
 },
 "nbformat": 4,
 "nbformat_minor": 5
}
